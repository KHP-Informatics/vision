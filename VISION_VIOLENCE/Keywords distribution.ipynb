{
 "cells": [
  {
   "cell_type": "code",
   "execution_count": 1,
   "id": "cde25bca-38d5-4499-a142-c7df0f300a08",
   "metadata": {},
   "outputs": [],
   "source": [
    "import pandas as pd"
   ]
  },
  {
   "cell_type": "code",
   "execution_count": 101,
   "id": "17443219-5928-4c4c-b528-6b5175311aeb",
   "metadata": {},
   "outputs": [
    {
     "name": "stdout",
     "output_type": "stream",
     "text": [
      "Index(['domain', 'BrcId', 'diagnosis', 'CN_Doc_ID', 'doc_date', 'doc_type',\n",
      "       'kw', 'start_kw', 'clean_text', 'perpetrator', 'victim', 'witness',\n",
      "       'status', 'sexual', 'domestic', 'physical'],\n",
      "      dtype='object')\n",
      "(3771, 16)\n",
      "0    no\n",
      "1    no\n",
      "2    no\n",
      "3    no\n",
      "4    no\n",
      "Name: sexual, dtype: object\n"
     ]
    }
   ],
   "source": [
    "df1 = pd.read_excel('violence_adjudicated_final.xlsx')\n",
    "print(df1.columns)\n",
    "print(df1.shape)\n",
    "print(df1['sexual'].head())"
   ]
  },
  {
   "cell_type": "code",
   "execution_count": 69,
   "id": "b6e5630a-0778-4adc-b448-eac66a39df73",
   "metadata": {},
   "outputs": [],
   "source": [
    "df_g = df1.groupby('kw').count()['BrcId']\n",
    "df_g = df_g.reset_index()\n",
    "df_g['counts']=df_g['BrcId']"
   ]
  },
  {
   "cell_type": "code",
   "execution_count": 70,
   "id": "6bd0d0d3-f97f-43dd-8922-f402d1db0907",
   "metadata": {},
   "outputs": [
    {
     "data": {
      "text/html": [
       "<div>\n",
       "<style scoped>\n",
       "    .dataframe tbody tr th:only-of-type {\n",
       "        vertical-align: middle;\n",
       "    }\n",
       "\n",
       "    .dataframe tbody tr th {\n",
       "        vertical-align: top;\n",
       "    }\n",
       "\n",
       "    .dataframe thead th {\n",
       "        text-align: right;\n",
       "    }\n",
       "</style>\n",
       "<table border=\"1\" class=\"dataframe\">\n",
       "  <thead>\n",
       "    <tr style=\"text-align: right;\">\n",
       "      <th></th>\n",
       "      <th>kw</th>\n",
       "      <th>BrcId</th>\n",
       "      <th>counts</th>\n",
       "    </tr>\n",
       "  </thead>\n",
       "  <tbody>\n",
       "    <tr>\n",
       "      <th>0</th>\n",
       "      <td>% abus%</td>\n",
       "      <td>300</td>\n",
       "      <td>300</td>\n",
       "    </tr>\n",
       "    <tr>\n",
       "      <th>1</th>\n",
       "      <td>% assault%</td>\n",
       "      <td>300</td>\n",
       "      <td>300</td>\n",
       "    </tr>\n",
       "    <tr>\n",
       "      <th>2</th>\n",
       "      <td>% attack%</td>\n",
       "      <td>300</td>\n",
       "      <td>300</td>\n",
       "    </tr>\n",
       "    <tr>\n",
       "      <th>3</th>\n",
       "      <td>% beat%</td>\n",
       "      <td>300</td>\n",
       "      <td>300</td>\n",
       "    </tr>\n",
       "    <tr>\n",
       "      <th>4</th>\n",
       "      <td>% chok%</td>\n",
       "      <td>200</td>\n",
       "      <td>200</td>\n",
       "    </tr>\n",
       "    <tr>\n",
       "      <th>5</th>\n",
       "      <td>% fight%</td>\n",
       "      <td>200</td>\n",
       "      <td>200</td>\n",
       "    </tr>\n",
       "    <tr>\n",
       "      <th>6</th>\n",
       "      <td>% fought%</td>\n",
       "      <td>124</td>\n",
       "      <td>124</td>\n",
       "    </tr>\n",
       "    <tr>\n",
       "      <th>7</th>\n",
       "      <td>% hit%</td>\n",
       "      <td>300</td>\n",
       "      <td>300</td>\n",
       "    </tr>\n",
       "    <tr>\n",
       "      <th>8</th>\n",
       "      <td>% punch%</td>\n",
       "      <td>200</td>\n",
       "      <td>200</td>\n",
       "    </tr>\n",
       "    <tr>\n",
       "      <th>9</th>\n",
       "      <td>% push%</td>\n",
       "      <td>200</td>\n",
       "      <td>200</td>\n",
       "    </tr>\n",
       "    <tr>\n",
       "      <th>10</th>\n",
       "      <td>% rape%</td>\n",
       "      <td>188</td>\n",
       "      <td>188</td>\n",
       "    </tr>\n",
       "    <tr>\n",
       "      <th>11</th>\n",
       "      <td>% slap%</td>\n",
       "      <td>200</td>\n",
       "      <td>200</td>\n",
       "    </tr>\n",
       "    <tr>\n",
       "      <th>12</th>\n",
       "      <td>% strangl%</td>\n",
       "      <td>200</td>\n",
       "      <td>200</td>\n",
       "    </tr>\n",
       "    <tr>\n",
       "      <th>13</th>\n",
       "      <td>% strangul%</td>\n",
       "      <td>59</td>\n",
       "      <td>59</td>\n",
       "    </tr>\n",
       "    <tr>\n",
       "      <th>14</th>\n",
       "      <td>% struck%</td>\n",
       "      <td>200</td>\n",
       "      <td>200</td>\n",
       "    </tr>\n",
       "    <tr>\n",
       "      <th>15</th>\n",
       "      <td>% threw%</td>\n",
       "      <td>200</td>\n",
       "      <td>200</td>\n",
       "    </tr>\n",
       "    <tr>\n",
       "      <th>16</th>\n",
       "      <td>% violenc%</td>\n",
       "      <td>300</td>\n",
       "      <td>300</td>\n",
       "    </tr>\n",
       "  </tbody>\n",
       "</table>\n",
       "</div>"
      ],
      "text/plain": [
       "             kw  BrcId  counts\n",
       "0       % abus%    300     300\n",
       "1    % assault%    300     300\n",
       "2     % attack%    300     300\n",
       "3       % beat%    300     300\n",
       "4       % chok%    200     200\n",
       "5      % fight%    200     200\n",
       "6     % fought%    124     124\n",
       "7        % hit%    300     300\n",
       "8      % punch%    200     200\n",
       "9       % push%    200     200\n",
       "10      % rape%    188     188\n",
       "11      % slap%    200     200\n",
       "12   % strangl%    200     200\n",
       "13  % strangul%     59      59\n",
       "14    % struck%    200     200\n",
       "15     % threw%    200     200\n",
       "16   % violenc%    300     300"
      ]
     },
     "metadata": {},
     "output_type": "display_data"
    }
   ],
   "source": [
    "display(df_g)"
   ]
  },
  {
   "cell_type": "code",
   "execution_count": 71,
   "id": "a9c19c24-fa96-48d7-b09e-77e3acdfea7a",
   "metadata": {},
   "outputs": [
    {
     "name": "stderr",
     "output_type": "stream",
     "text": [
      "/opt/conda/lib/python3.9/site-packages/seaborn/_decorators.py:36: FutureWarning: Pass the following variables as keyword args: x, y. From version 0.12, the only valid positional argument will be `data`, and passing other arguments without an explicit keyword will result in an error or misinterpretation.\n",
      "  warnings.warn(\n"
     ]
    },
    {
     "data": {
      "image/png": "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\n",
      "text/plain": [
       "<Figure size 900x600 with 1 Axes>"
      ]
     },
     "metadata": {
      "needs_background": "light"
     },
     "output_type": "display_data"
    }
   ],
   "source": [
    "fig = plt.figure(dpi=150)\n",
    "sns.barplot(df_g['kw'],df_g['counts'])\n",
    "plt.xticks(rotation=90)\n",
    "plt.tight_layout()\n",
    "plt.show()"
   ]
  },
  {
   "cell_type": "markdown",
   "id": "9e48ead7-cfd4-455c-88eb-44c23f1c786b",
   "metadata": {},
   "source": [
    "## Sexual violence ='yes'"
   ]
  },
  {
   "cell_type": "code",
   "execution_count": 74,
   "id": "615abd5b-caad-4377-abff-8bdf7bb93ae5",
   "metadata": {},
   "outputs": [
    {
     "name": "stdout",
     "output_type": "stream",
     "text": [
      "(368, 16)\n"
     ]
    }
   ],
   "source": [
    "df1_sexual=df1[(df1['sexual']=='yes')] #&(df1['kw']=='%rape%')\n",
    "print(df1_sexual.shape)\n",
    "groupby_df1 = df1_sexual.groupby('kw').count()"
   ]
  },
  {
   "cell_type": "code",
   "execution_count": 75,
   "id": "1daa6a98-a75b-40d3-bb91-8d2d69f62c42",
   "metadata": {},
   "outputs": [],
   "source": [
    "#print(groupby_df1.head())"
   ]
  },
  {
   "cell_type": "code",
   "execution_count": 76,
   "id": "782c1b35-d29c-4103-adfa-68becae4dfb3",
   "metadata": {},
   "outputs": [
    {
     "data": {
      "text/html": [
       "<div>\n",
       "<style scoped>\n",
       "    .dataframe tbody tr th:only-of-type {\n",
       "        vertical-align: middle;\n",
       "    }\n",
       "\n",
       "    .dataframe tbody tr th {\n",
       "        vertical-align: top;\n",
       "    }\n",
       "\n",
       "    .dataframe thead th {\n",
       "        text-align: right;\n",
       "    }\n",
       "</style>\n",
       "<table border=\"1\" class=\"dataframe\">\n",
       "  <thead>\n",
       "    <tr style=\"text-align: right;\">\n",
       "      <th></th>\n",
       "      <th>domain</th>\n",
       "      <th>BrcId</th>\n",
       "      <th>diagnosis</th>\n",
       "      <th>CN_Doc_ID</th>\n",
       "      <th>doc_date</th>\n",
       "      <th>doc_type</th>\n",
       "      <th>kw</th>\n",
       "      <th>start_kw</th>\n",
       "      <th>clean_text</th>\n",
       "      <th>perpetrator</th>\n",
       "      <th>victim</th>\n",
       "      <th>witness</th>\n",
       "      <th>status</th>\n",
       "      <th>sexual</th>\n",
       "      <th>domestic</th>\n",
       "      <th>physical</th>\n",
       "    </tr>\n",
       "  </thead>\n",
       "  <tbody>\n",
       "    <tr>\n",
       "      <th>20</th>\n",
       "      <td>noun</td>\n",
       "      <td>10043533</td>\n",
       "      <td>ptsd with features</td>\n",
       "      <td>603929864504851</td>\n",
       "      <td>2019-12-06</td>\n",
       "      <td>Attachment</td>\n",
       "      <td>% beat%</td>\n",
       "      <td>7996</td>\n",
       "      <td>o the opposite as she was tired of holding thi...</td>\n",
       "      <td>no</td>\n",
       "      <td>yes</td>\n",
       "      <td>no</td>\n",
       "      <td>affirmed</td>\n",
       "      <td>yes</td>\n",
       "      <td>no</td>\n",
       "      <td>yes</td>\n",
       "    </tr>\n",
       "    <tr>\n",
       "      <th>21</th>\n",
       "      <td>verb</td>\n",
       "      <td>10158360</td>\n",
       "      <td>schizoid personality disorder</td>\n",
       "      <td>603491264499346</td>\n",
       "      <td>2019-12-04</td>\n",
       "      <td>Attachment</td>\n",
       "      <td>% fought%</td>\n",
       "      <td>14396</td>\n",
       "      <td>ere he was alleged to have forced two other bo...</td>\n",
       "      <td>yes</td>\n",
       "      <td>no</td>\n",
       "      <td>no</td>\n",
       "      <td>affirmed</td>\n",
       "      <td>yes</td>\n",
       "      <td>yes</td>\n",
       "      <td>no</td>\n",
       "    </tr>\n",
       "    <tr>\n",
       "      <th>22</th>\n",
       "      <td>noun</td>\n",
       "      <td>10142025</td>\n",
       "      <td>personality disorder</td>\n",
       "      <td>603569564500587</td>\n",
       "      <td>2019-12-04</td>\n",
       "      <td>Attachment</td>\n",
       "      <td>% rape%</td>\n",
       "      <td>20992</td>\n",
       "      <td>plit up by that time. in december 2014 while p...</td>\n",
       "      <td>no</td>\n",
       "      <td>no</td>\n",
       "      <td>no</td>\n",
       "      <td>affirmed</td>\n",
       "      <td>yes</td>\n",
       "      <td>no</td>\n",
       "      <td>yes</td>\n",
       "    </tr>\n",
       "    <tr>\n",
       "      <th>23</th>\n",
       "      <td>noun</td>\n",
       "      <td>10030126</td>\n",
       "      <td>ptsd recurrent depression</td>\n",
       "      <td>603267484495896</td>\n",
       "      <td>2019-12-02</td>\n",
       "      <td>Attachment</td>\n",
       "      <td>% beat%</td>\n",
       "      <td>12397</td>\n",
       "      <td>as a child   · gave birth at age 12 [father of...</td>\n",
       "      <td>no</td>\n",
       "      <td>yes</td>\n",
       "      <td>no</td>\n",
       "      <td>affirmed</td>\n",
       "      <td>yes</td>\n",
       "      <td>no</td>\n",
       "      <td>yes</td>\n",
       "    </tr>\n",
       "    <tr>\n",
       "      <th>25</th>\n",
       "      <td>noun</td>\n",
       "      <td>10047477</td>\n",
       "      <td>f41.2 - mixed anxiety and depressive disorder</td>\n",
       "      <td>602654394489585</td>\n",
       "      <td>2019-11-27</td>\n",
       "      <td>Attachment</td>\n",
       "      <td>% assault%</td>\n",
       "      <td>1524</td>\n",
       "      <td>suicidal thoughts in the last 3 months. she re...</td>\n",
       "      <td>no</td>\n",
       "      <td>yes</td>\n",
       "      <td>no</td>\n",
       "      <td>affirmed</td>\n",
       "      <td>yes</td>\n",
       "      <td>yes</td>\n",
       "      <td>yes</td>\n",
       "    </tr>\n",
       "    <tr>\n",
       "      <th>...</th>\n",
       "      <td>...</td>\n",
       "      <td>...</td>\n",
       "      <td>...</td>\n",
       "      <td>...</td>\n",
       "      <td>...</td>\n",
       "      <td>...</td>\n",
       "      <td>...</td>\n",
       "      <td>...</td>\n",
       "      <td>...</td>\n",
       "      <td>...</td>\n",
       "      <td>...</td>\n",
       "      <td>...</td>\n",
       "      <td>...</td>\n",
       "      <td>...</td>\n",
       "      <td>...</td>\n",
       "      <td>...</td>\n",
       "    </tr>\n",
       "    <tr>\n",
       "      <th>3688</th>\n",
       "      <td>noun</td>\n",
       "      <td>10013719</td>\n",
       "      <td>f25 - schizoaffective disorders</td>\n",
       "      <td>19992712442972</td>\n",
       "      <td>2001-11-26</td>\n",
       "      <td>CCS_Correspondence</td>\n",
       "      <td>% abus%</td>\n",
       "      <td>1321</td>\n",
       "      <td>she has a good social life with a nice circle ...</td>\n",
       "      <td>no</td>\n",
       "      <td>yes</td>\n",
       "      <td>no</td>\n",
       "      <td>affirmed</td>\n",
       "      <td>yes</td>\n",
       "      <td>no</td>\n",
       "      <td>no</td>\n",
       "    </tr>\n",
       "    <tr>\n",
       "      <th>3698</th>\n",
       "      <td>verb</td>\n",
       "      <td>10036088</td>\n",
       "      <td>paranoid schizophrenia</td>\n",
       "      <td>25557716203625</td>\n",
       "      <td>2001-09-27</td>\n",
       "      <td>CCS_Correspondence</td>\n",
       "      <td>% threw%</td>\n",
       "      <td>1186</td>\n",
       "      <td>psychotic symptoms. zzzzz had a 24-hour histor...</td>\n",
       "      <td>no</td>\n",
       "      <td>yes</td>\n",
       "      <td>no</td>\n",
       "      <td>affirmed</td>\n",
       "      <td>yes</td>\n",
       "      <td>no</td>\n",
       "      <td>yes</td>\n",
       "    </tr>\n",
       "    <tr>\n",
       "      <th>3732</th>\n",
       "      <td>noun</td>\n",
       "      <td>10014423</td>\n",
       "      <td>(f25)</td>\n",
       "      <td>22457614102634</td>\n",
       "      <td>2001-03-15</td>\n",
       "      <td>CCS_Correspondence</td>\n",
       "      <td>% abus%</td>\n",
       "      <td>6406</td>\n",
       "      <td>re true. on 7 december she had repeatedly call...</td>\n",
       "      <td>no</td>\n",
       "      <td>yes</td>\n",
       "      <td>no</td>\n",
       "      <td>affirmed</td>\n",
       "      <td>yes</td>\n",
       "      <td>no</td>\n",
       "      <td>yes</td>\n",
       "    </tr>\n",
       "    <tr>\n",
       "      <th>3737</th>\n",
       "      <td>noun</td>\n",
       "      <td>10013693</td>\n",
       "      <td>(icd-10 code: f25)</td>\n",
       "      <td>22594448</td>\n",
       "      <td>2001-02-22</td>\n",
       "      <td>CCS_correspondence</td>\n",
       "      <td>% abus%</td>\n",
       "      <td>4329</td>\n",
       "      <td>schizophrenia and the series of loss events (m...</td>\n",
       "      <td>yes</td>\n",
       "      <td>no</td>\n",
       "      <td>no</td>\n",
       "      <td>affirmed</td>\n",
       "      <td>yes</td>\n",
       "      <td>yes</td>\n",
       "      <td>no</td>\n",
       "    </tr>\n",
       "    <tr>\n",
       "      <th>3762</th>\n",
       "      <td>verb</td>\n",
       "      <td>10032706</td>\n",
       "      <td>f60 - specific personality disorders</td>\n",
       "      <td>31423520067956</td>\n",
       "      <td>1999-01-21</td>\n",
       "      <td>CCS_Correspondence</td>\n",
       "      <td>% strangl%</td>\n",
       "      <td>21122</td>\n",
       "      <td>saw another woman who he approached and grabbe...</td>\n",
       "      <td>yes</td>\n",
       "      <td>no</td>\n",
       "      <td>no</td>\n",
       "      <td>affirmed</td>\n",
       "      <td>yes</td>\n",
       "      <td>no</td>\n",
       "      <td>yes</td>\n",
       "    </tr>\n",
       "  </tbody>\n",
       "</table>\n",
       "<p>368 rows × 16 columns</p>\n",
       "</div>"
      ],
      "text/plain": [
       "     domain     BrcId                                      diagnosis  \\\n",
       "20     noun  10043533                             ptsd with features   \n",
       "21     verb  10158360                  schizoid personality disorder   \n",
       "22     noun  10142025                           personality disorder   \n",
       "23     noun  10030126                      ptsd recurrent depression   \n",
       "25     noun  10047477  f41.2 - mixed anxiety and depressive disorder   \n",
       "...     ...       ...                                            ...   \n",
       "3688   noun  10013719                f25 - schizoaffective disorders   \n",
       "3698   verb  10036088                         paranoid schizophrenia   \n",
       "3732   noun  10014423                                          (f25)   \n",
       "3737   noun  10013693                             (icd-10 code: f25)   \n",
       "3762   verb  10032706           f60 - specific personality disorders   \n",
       "\n",
       "            CN_Doc_ID   doc_date            doc_type          kw  start_kw  \\\n",
       "20    603929864504851 2019-12-06          Attachment     % beat%      7996   \n",
       "21    603491264499346 2019-12-04          Attachment   % fought%     14396   \n",
       "22    603569564500587 2019-12-04          Attachment     % rape%     20992   \n",
       "23    603267484495896 2019-12-02          Attachment     % beat%     12397   \n",
       "25    602654394489585 2019-11-27          Attachment  % assault%      1524   \n",
       "...               ...        ...                 ...         ...       ...   \n",
       "3688   19992712442972 2001-11-26  CCS_Correspondence     % abus%      1321   \n",
       "3698   25557716203625 2001-09-27  CCS_Correspondence    % threw%      1186   \n",
       "3732   22457614102634 2001-03-15  CCS_Correspondence     % abus%      6406   \n",
       "3737         22594448 2001-02-22  CCS_correspondence     % abus%      4329   \n",
       "3762   31423520067956 1999-01-21  CCS_Correspondence  % strangl%     21122   \n",
       "\n",
       "                                             clean_text perpetrator victim  \\\n",
       "20    o the opposite as she was tired of holding thi...          no    yes   \n",
       "21    ere he was alleged to have forced two other bo...         yes     no   \n",
       "22    plit up by that time. in december 2014 while p...          no     no   \n",
       "23    as a child   · gave birth at age 12 [father of...          no    yes   \n",
       "25    suicidal thoughts in the last 3 months. she re...          no    yes   \n",
       "...                                                 ...         ...    ...   \n",
       "3688  she has a good social life with a nice circle ...          no    yes   \n",
       "3698  psychotic symptoms. zzzzz had a 24-hour histor...          no    yes   \n",
       "3732  re true. on 7 december she had repeatedly call...          no    yes   \n",
       "3737  schizophrenia and the series of loss events (m...         yes     no   \n",
       "3762  saw another woman who he approached and grabbe...         yes     no   \n",
       "\n",
       "     witness    status sexual domestic physical  \n",
       "20        no  affirmed    yes       no      yes  \n",
       "21        no  affirmed    yes      yes       no  \n",
       "22        no  affirmed    yes       no      yes  \n",
       "23        no  affirmed    yes       no      yes  \n",
       "25        no  affirmed    yes      yes      yes  \n",
       "...      ...       ...    ...      ...      ...  \n",
       "3688      no  affirmed    yes       no       no  \n",
       "3698      no  affirmed    yes       no      yes  \n",
       "3732      no  affirmed    yes       no      yes  \n",
       "3737      no  affirmed    yes      yes       no  \n",
       "3762      no  affirmed    yes       no      yes  \n",
       "\n",
       "[368 rows x 16 columns]"
      ]
     },
     "metadata": {},
     "output_type": "display_data"
    }
   ],
   "source": [
    "display(df1_sexual)"
   ]
  },
  {
   "cell_type": "code",
   "execution_count": 77,
   "id": "59b56c29-910c-43ba-8622-ae9e255548af",
   "metadata": {},
   "outputs": [],
   "source": [
    "#df1_sexual.to_csv('386_sexual_violence.csv',index=False)"
   ]
  },
  {
   "cell_type": "code",
   "execution_count": 78,
   "id": "d6b31040-869e-45f4-8cbb-89374955d6ae",
   "metadata": {},
   "outputs": [
    {
     "name": "stdout",
     "output_type": "stream",
     "text": [
      "(368, 16)\n"
     ]
    }
   ],
   "source": [
    "ndf1 = pd.read_csv('386_sexual_violence.csv')\n",
    "print(ndf1.shape)"
   ]
  },
  {
   "cell_type": "code",
   "execution_count": 79,
   "id": "3223c878-34f5-4616-b38f-f2d084800829",
   "metadata": {},
   "outputs": [],
   "source": [
    "ndf1_groupby = ndf1.groupby('kw').count()"
   ]
  },
  {
   "cell_type": "code",
   "execution_count": 80,
   "id": "faa14e17-176e-4a71-9cd7-84c850023abe",
   "metadata": {},
   "outputs": [
    {
     "name": "stdout",
     "output_type": "stream",
     "text": [
      "kw\n",
      "% abus%         34\n",
      "% assault%      55\n",
      "% attack%        7\n",
      "% beat%         17\n",
      "% fight%         4\n",
      "% fought%        7\n",
      "% hit%           7\n",
      "% punch%        15\n",
      "% push%          8\n",
      "% rape%        152\n",
      "% slap%          7\n",
      "% strangl%      13\n",
      "% strangul%      1\n",
      "% struck%        4\n",
      "% threw%         7\n",
      "% violenc%      30\n",
      "Name: BrcId, dtype: int64\n"
     ]
    }
   ],
   "source": [
    "print(ndf1_groupby['BrcId'])"
   ]
  },
  {
   "cell_type": "code",
   "execution_count": 81,
   "id": "08e1d871-9d91-487c-8a40-ceb133af1a59",
   "metadata": {},
   "outputs": [
    {
     "data": {
      "text/html": [
       "<div>\n",
       "<style scoped>\n",
       "    .dataframe tbody tr th:only-of-type {\n",
       "        vertical-align: middle;\n",
       "    }\n",
       "\n",
       "    .dataframe tbody tr th {\n",
       "        vertical-align: top;\n",
       "    }\n",
       "\n",
       "    .dataframe thead th {\n",
       "        text-align: right;\n",
       "    }\n",
       "</style>\n",
       "<table border=\"1\" class=\"dataframe\">\n",
       "  <thead>\n",
       "    <tr style=\"text-align: right;\">\n",
       "      <th></th>\n",
       "      <th>kw</th>\n",
       "      <th>BrcId</th>\n",
       "      <th>counts</th>\n",
       "    </tr>\n",
       "  </thead>\n",
       "  <tbody>\n",
       "    <tr>\n",
       "      <th>0</th>\n",
       "      <td>% abus%</td>\n",
       "      <td>34</td>\n",
       "      <td>34</td>\n",
       "    </tr>\n",
       "    <tr>\n",
       "      <th>1</th>\n",
       "      <td>% assault%</td>\n",
       "      <td>55</td>\n",
       "      <td>55</td>\n",
       "    </tr>\n",
       "    <tr>\n",
       "      <th>2</th>\n",
       "      <td>% attack%</td>\n",
       "      <td>7</td>\n",
       "      <td>7</td>\n",
       "    </tr>\n",
       "    <tr>\n",
       "      <th>3</th>\n",
       "      <td>% beat%</td>\n",
       "      <td>17</td>\n",
       "      <td>17</td>\n",
       "    </tr>\n",
       "    <tr>\n",
       "      <th>4</th>\n",
       "      <td>% fight%</td>\n",
       "      <td>4</td>\n",
       "      <td>4</td>\n",
       "    </tr>\n",
       "    <tr>\n",
       "      <th>5</th>\n",
       "      <td>% fought%</td>\n",
       "      <td>7</td>\n",
       "      <td>7</td>\n",
       "    </tr>\n",
       "    <tr>\n",
       "      <th>6</th>\n",
       "      <td>% hit%</td>\n",
       "      <td>7</td>\n",
       "      <td>7</td>\n",
       "    </tr>\n",
       "    <tr>\n",
       "      <th>7</th>\n",
       "      <td>% punch%</td>\n",
       "      <td>15</td>\n",
       "      <td>15</td>\n",
       "    </tr>\n",
       "    <tr>\n",
       "      <th>8</th>\n",
       "      <td>% push%</td>\n",
       "      <td>8</td>\n",
       "      <td>8</td>\n",
       "    </tr>\n",
       "    <tr>\n",
       "      <th>9</th>\n",
       "      <td>% rape%</td>\n",
       "      <td>152</td>\n",
       "      <td>152</td>\n",
       "    </tr>\n",
       "    <tr>\n",
       "      <th>10</th>\n",
       "      <td>% slap%</td>\n",
       "      <td>7</td>\n",
       "      <td>7</td>\n",
       "    </tr>\n",
       "    <tr>\n",
       "      <th>11</th>\n",
       "      <td>% strangl%</td>\n",
       "      <td>13</td>\n",
       "      <td>13</td>\n",
       "    </tr>\n",
       "    <tr>\n",
       "      <th>12</th>\n",
       "      <td>% strangul%</td>\n",
       "      <td>1</td>\n",
       "      <td>1</td>\n",
       "    </tr>\n",
       "    <tr>\n",
       "      <th>13</th>\n",
       "      <td>% struck%</td>\n",
       "      <td>4</td>\n",
       "      <td>4</td>\n",
       "    </tr>\n",
       "    <tr>\n",
       "      <th>14</th>\n",
       "      <td>% threw%</td>\n",
       "      <td>7</td>\n",
       "      <td>7</td>\n",
       "    </tr>\n",
       "    <tr>\n",
       "      <th>15</th>\n",
       "      <td>% violenc%</td>\n",
       "      <td>30</td>\n",
       "      <td>30</td>\n",
       "    </tr>\n",
       "  </tbody>\n",
       "</table>\n",
       "</div>"
      ],
      "text/plain": [
       "             kw  BrcId  counts\n",
       "0       % abus%     34      34\n",
       "1    % assault%     55      55\n",
       "2     % attack%      7       7\n",
       "3       % beat%     17      17\n",
       "4      % fight%      4       4\n",
       "5     % fought%      7       7\n",
       "6        % hit%      7       7\n",
       "7      % punch%     15      15\n",
       "8       % push%      8       8\n",
       "9       % rape%    152     152\n",
       "10      % slap%      7       7\n",
       "11   % strangl%     13      13\n",
       "12  % strangul%      1       1\n",
       "13    % struck%      4       4\n",
       "14     % threw%      7       7\n",
       "15   % violenc%     30      30"
      ]
     },
     "metadata": {},
     "output_type": "display_data"
    }
   ],
   "source": [
    "display_df = ndf1_groupby['BrcId']\n",
    "display_df =display_df.reset_index()\n",
    "display_df['counts']=display_df['BrcId']\n",
    "display(display_df)"
   ]
  },
  {
   "cell_type": "code",
   "execution_count": 82,
   "id": "311e9ade-1c0d-4c00-8d8d-26f038b694df",
   "metadata": {},
   "outputs": [],
   "source": [
    "import matplotlib.pyplot as plt\n",
    "import seaborn as sns"
   ]
  },
  {
   "cell_type": "code",
   "execution_count": 83,
   "id": "715b931e-6496-4285-a2c4-5c6d4b54060b",
   "metadata": {},
   "outputs": [
    {
     "name": "stderr",
     "output_type": "stream",
     "text": [
      "/opt/conda/lib/python3.9/site-packages/seaborn/_decorators.py:36: FutureWarning: Pass the following variables as keyword args: x, y. From version 0.12, the only valid positional argument will be `data`, and passing other arguments without an explicit keyword will result in an error or misinterpretation.\n",
      "  warnings.warn(\n"
     ]
    },
    {
     "data": {
      "image/png": "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\n",
      "text/plain": [
       "<Figure size 900x600 with 1 Axes>"
      ]
     },
     "metadata": {
      "needs_background": "light"
     },
     "output_type": "display_data"
    }
   ],
   "source": [
    "fig = plt.figure(dpi=150)\n",
    "sns.barplot(display_df['kw'],display_df['counts'])\n",
    "plt.xticks(rotation=90)\n",
    "plt.tight_layout()\n",
    "plt.show()"
   ]
  },
  {
   "cell_type": "markdown",
   "id": "a39155c7-3d31-4974-b67b-17b671c1574e",
   "metadata": {},
   "source": [
    "## Next step is to try the 1411 data and check the keywords they applied."
   ]
  },
  {
   "cell_type": "code",
   "execution_count": 84,
   "id": "c3e05a0a-0f90-4f6e-a2b8-aceb87153602",
   "metadata": {},
   "outputs": [
    {
     ]
    }
   ],
   "source": [
    "df = pd.read_excel('updated_copy from Riley_1411_sentences.xlsx')\n",
    "print(df.head())"
   ]
  },
  {
   "cell_type": "code",
   "execution_count": 85,
   "id": "fbae211e-25f4-4de2-9773-ecbc3735ee33",
   "metadata": {},
   "outputs": [],
   "source": [
    "df_groupby = df.groupby('kw').count()['BrcId']\n",
    "df_groupby= df_groupby.reset_index()\n",
    "df_groupby['counts']= df_groupby['BrcId']"
   ]
  },
  {
   "cell_type": "code",
   "execution_count": 86,
   "id": "a81c43f3-b7b2-4a86-9ab5-95aaf4b07518",
   "metadata": {},
   "outputs": [
    {
     "data": {
      "text/html": [
       "<div>\n",
       "<style scoped>\n",
       "    .dataframe tbody tr th:only-of-type {\n",
       "        vertical-align: middle;\n",
       "    }\n",
       "\n",
       "    .dataframe tbody tr th {\n",
       "        vertical-align: top;\n",
       "    }\n",
       "\n",
       "    .dataframe thead th {\n",
       "        text-align: right;\n",
       "    }\n",
       "</style>\n",
       "<table border=\"1\" class=\"dataframe\">\n",
       "  <thead>\n",
       "    <tr style=\"text-align: right;\">\n",
       "      <th></th>\n",
       "      <th>kw</th>\n",
       "      <th>BrcId</th>\n",
       "      <th>counts</th>\n",
       "    </tr>\n",
       "  </thead>\n",
       "  <tbody>\n",
       "    <tr>\n",
       "      <th>0</th>\n",
       "      <td>% abus%</td>\n",
       "      <td>351</td>\n",
       "      <td>351</td>\n",
       "    </tr>\n",
       "    <tr>\n",
       "      <th>1</th>\n",
       "      <td>% assault%</td>\n",
       "      <td>129</td>\n",
       "      <td>129</td>\n",
       "    </tr>\n",
       "    <tr>\n",
       "      <th>2</th>\n",
       "      <td>% attack%</td>\n",
       "      <td>229</td>\n",
       "      <td>229</td>\n",
       "    </tr>\n",
       "    <tr>\n",
       "      <th>3</th>\n",
       "      <td>% beat%</td>\n",
       "      <td>51</td>\n",
       "      <td>51</td>\n",
       "    </tr>\n",
       "    <tr>\n",
       "      <th>4</th>\n",
       "      <td>% chok%</td>\n",
       "      <td>23</td>\n",
       "      <td>23</td>\n",
       "    </tr>\n",
       "    <tr>\n",
       "      <th>5</th>\n",
       "      <td>% fight%</td>\n",
       "      <td>61</td>\n",
       "      <td>61</td>\n",
       "    </tr>\n",
       "    <tr>\n",
       "      <th>6</th>\n",
       "      <td>% fought%</td>\n",
       "      <td>6</td>\n",
       "      <td>6</td>\n",
       "    </tr>\n",
       "    <tr>\n",
       "      <th>7</th>\n",
       "      <td>% hit%</td>\n",
       "      <td>184</td>\n",
       "      <td>184</td>\n",
       "    </tr>\n",
       "    <tr>\n",
       "      <th>8</th>\n",
       "      <td>% punch%</td>\n",
       "      <td>44</td>\n",
       "      <td>44</td>\n",
       "    </tr>\n",
       "    <tr>\n",
       "      <th>9</th>\n",
       "      <td>% push%</td>\n",
       "      <td>67</td>\n",
       "      <td>67</td>\n",
       "    </tr>\n",
       "    <tr>\n",
       "      <th>10</th>\n",
       "      <td>% rape%</td>\n",
       "      <td>43</td>\n",
       "      <td>43</td>\n",
       "    </tr>\n",
       "    <tr>\n",
       "      <th>11</th>\n",
       "      <td>% slap%</td>\n",
       "      <td>18</td>\n",
       "      <td>18</td>\n",
       "    </tr>\n",
       "    <tr>\n",
       "      <th>12</th>\n",
       "      <td>% strangl%</td>\n",
       "      <td>12</td>\n",
       "      <td>12</td>\n",
       "    </tr>\n",
       "    <tr>\n",
       "      <th>13</th>\n",
       "      <td>% strangul%</td>\n",
       "      <td>2</td>\n",
       "      <td>2</td>\n",
       "    </tr>\n",
       "    <tr>\n",
       "      <th>14</th>\n",
       "      <td>% struck%</td>\n",
       "      <td>16</td>\n",
       "      <td>16</td>\n",
       "    </tr>\n",
       "    <tr>\n",
       "      <th>15</th>\n",
       "      <td>% threw%</td>\n",
       "      <td>31</td>\n",
       "      <td>31</td>\n",
       "    </tr>\n",
       "    <tr>\n",
       "      <th>16</th>\n",
       "      <td>% violenc%</td>\n",
       "      <td>144</td>\n",
       "      <td>144</td>\n",
       "    </tr>\n",
       "  </tbody>\n",
       "</table>\n",
       "</div>"
      ],
      "text/plain": [
       "             kw  BrcId  counts\n",
       "0       % abus%    351     351\n",
       "1    % assault%    129     129\n",
       "2     % attack%    229     229\n",
       "3       % beat%     51      51\n",
       "4       % chok%     23      23\n",
       "5      % fight%     61      61\n",
       "6     % fought%      6       6\n",
       "7        % hit%    184     184\n",
       "8      % punch%     44      44\n",
       "9       % push%     67      67\n",
       "10      % rape%     43      43\n",
       "11      % slap%     18      18\n",
       "12   % strangl%     12      12\n",
       "13  % strangul%      2       2\n",
       "14    % struck%     16      16\n",
       "15     % threw%     31      31\n",
       "16   % violenc%    144     144"
      ]
     },
     "metadata": {},
     "output_type": "display_data"
    }
   ],
   "source": [
    "display(df_groupby)"
   ]
  },
  {
   "cell_type": "code",
   "execution_count": 87,
   "id": "540a12c4-f4dd-4f7f-9078-d75d22f330a4",
   "metadata": {},
   "outputs": [
    {
     "name": "stderr",
     "output_type": "stream",
     "text": [
     ]
    },
    {
     "data": {
      "image/png": "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\n",
      "text/plain": [
       "<Figure size 900x600 with 1 Axes>"
      ]
     },
     "metadata": {
      "needs_background": "light"
     },
     "output_type": "display_data"
    }
   ],
   "source": [
    "fig = plt.figure(dpi=150)\n",
    "sns.barplot(df_groupby['kw'],display_df['counts'])\n",
    "plt.xticks(rotation=90)\n",
    "plt.tight_layout()\n",
    "plt.show()"
   ]
  },
  {
   "cell_type": "code",
   "execution_count": 88,
   "id": "1d4f8529-afa2-4e71-a5a3-c0f94e36b0c9",
   "metadata": {},
   "outputs": [
    {
     "name": "stdout",
     "output_type": "stream",
     "text": [
      "(111, 17)\n"
     ]
    }
   ],
   "source": [
    "dfa = df[df['sexual']=='yes']\n",
    "print(dfa.shape)"
   ]
  },
  {
   "cell_type": "code",
   "execution_count": 89,
   "id": "651d6b65-c5de-4283-88f2-5117e9ce5f80",
   "metadata": {},
   "outputs": [],
   "source": [
    "df_groupbya = dfa.groupby('kw').count()['BrcId']\n",
    "df_groupbya= df_groupbya.reset_index()\n",
    "df_groupbya['counts']= df_groupbya['BrcId']"
   ]
  },
  {
   "cell_type": "code",
   "execution_count": 90,
   "id": "5252a202-27a5-4081-a8aa-b8205720e100",
   "metadata": {},
   "outputs": [
    {
     "name": "stderr",
     "output_type": "stream",
     "text": [
      "/opt/conda/lib/python3.9/site-packages/seaborn/_decorators.py:36: FutureWarning: Pass the following variables as keyword args: x, y. From version 0.12, the only valid positional argument will be `data`, and passing other arguments without an explicit keyword will result in an error or misinterpretation.\n",
      "  warnings.warn(\n"
     ]
    },
    {
     "data": {
      "image/png": "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\n",
      "text/plain": [
       "<Figure size 900x600 with 1 Axes>"
      ]
     },
     "metadata": {
      "needs_background": "light"
     },
     "output_type": "display_data"
    }
   ],
   "source": [
    "fig = plt.figure(dpi=150)\n",
    "sns.barplot(df_groupbya['kw'],df_groupbya['counts'])\n",
    "plt.xticks(rotation=90)\n",
    "plt.tight_layout()\n",
    "plt.show()"
   ]
  },
  {
   "cell_type": "markdown",
   "id": "e09f65e1-c355-452e-8561-591d61c6c933",
   "metadata": {},
   "source": [
    "## Anna testing results"
   ]
  },
  {
   "cell_type": "code",
   "execution_count": 96,
   "id": "80224a64-19ad-4f52-ad84-3fed92eff2fa",
   "metadata": {},
   "outputs": [
    {
     "name": "stdout",
     "output_type": "stream",
     "text": [
     ]
    }
   ],
   "source": [
    "df_Anna = pd.read_excel('sexual_violence_patient_level_precision_2019.xlsx')\n",
    "print(df_Anna.head())\n",
    "print(df_Anna.shape)"
   ]
  },
  {
   "cell_type": "code",
   "execution_count": 97,
   "id": "dcb38108-5ea5-4de4-8258-0e9d308c517a",
   "metadata": {},
   "outputs": [
    {
     "name": "stdout",
     "output_type": "stream",
     "text": [
      "(979, 10)\n"
     ]
    }
   ],
   "source": [
    "df_Anna=df_Anna.dropna(subset=['text'])\n",
    "print(df_Anna.shape)"
   ]
  },
  {
   "cell_type": "code",
   "execution_count": 99,
   "id": "072f909f-4de7-4ffd-a69f-9e56b12929b2",
   "metadata": {},
   "outputs": [],
   "source": [
    "df_groupby_Anna = df_Anna.groupby('kw_text').count()['BrcId']\n",
    "df_groupby_Anna= df_groupby_Anna.reset_index()\n",
    "df_groupby_Anna['counts']= df_groupby_Anna['BrcId']"
   ]
  },
  {
   "cell_type": "code",
   "execution_count": 100,
   "id": "da5cbb21-4902-4d55-8696-1a7ca31e3f0b",
   "metadata": {},
   "outputs": [
    {
     "name": "stderr",
     "output_type": "stream",
     "text": [
      "/opt/conda/lib/python3.9/site-packages/seaborn/_decorators.py:36: FutureWarning: Pass the following variables as keyword args: x, y. From version 0.12, the only valid positional argument will be `data`, and passing other arguments without an explicit keyword will result in an error or misinterpretation.\n",
      "  warnings.warn(\n"
     ]
    },
    {
     "data": {
      "image/png": "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\n",
      "text/plain": [
       "<Figure size 900x600 with 1 Axes>"
      ]
     },
     "metadata": {
      "needs_background": "light"
     },
     "output_type": "display_data"
    }
   ],
   "source": [
    "fig = plt.figure(dpi=150)\n",
    "sns.barplot(df_groupby_Anna['kw_text'],df_groupby_Anna['counts'])\n",
    "plt.xticks(rotation=90)\n",
    "plt.tight_layout()\n",
    "plt.show()"
   ]
  },
  {
   "cell_type": "code",
   "execution_count": null,
   "id": "0eee9137-8095-4da2-9146-681df26ad6cc",
   "metadata": {},
   "outputs": [],
   "source": []
  }
 ],
 "metadata": {
  "kernelspec": {
   "display_name": "Python 3 (ipykernel)",
   "language": "python",
   "name": "python3"
  },
  "language_info": {
   "codemirror_mode": {
    "name": "ipython",
    "version": 3
   },
   "file_extension": ".py",
   "mimetype": "text/x-python",
   "name": "python",
   "nbconvert_exporter": "python",
   "pygments_lexer": "ipython3",
   "version": "3.8.8"
  }
 },
 "nbformat": 4,
 "nbformat_minor": 5
}
